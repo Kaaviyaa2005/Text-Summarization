{
  "nbformat": 4,
  "nbformat_minor": 0,
  "metadata": {
    "colab": {
      "provenance": [],
      "gpuType": "T4",
      "authorship_tag": "ABX9TyOYUtj5kzuHrglPijthswY0",
      "include_colab_link": true
    },
    "kernelspec": {
      "name": "python3",
      "display_name": "Python 3"
    },
    "language_info": {
      "name": "python"
    },
    "accelerator": "GPU"
  },
  "cells": [
    {
      "cell_type": "markdown",
      "metadata": {
        "id": "view-in-github",
        "colab_type": "text"
      },
      "source": [
        "<a href=\"https://colab.research.google.com/github/Kaaviyaa2005/Text-Summarization/blob/main/text_summarization_NLP.ipynb\" target=\"_parent\"><img src=\"https://colab.research.google.com/assets/colab-badge.svg\" alt=\"Open In Colab\"/></a>"
      ]
    },
    {
      "cell_type": "code",
      "execution_count": 1,
      "metadata": {
        "id": "3-bcX6a2HiQm",
        "colab": {
          "base_uri": "https://localhost:8080/"
        },
        "outputId": "f12744a7-3915-4759-8212-abb3e0edbccb"
      },
      "outputs": [
        {
          "output_type": "stream",
          "name": "stdout",
          "text": [
            "Requirement already satisfied: nltk in /usr/local/lib/python3.10/dist-packages (3.8.1)\n",
            "Requirement already satisfied: click in /usr/local/lib/python3.10/dist-packages (from nltk) (8.1.7)\n",
            "Requirement already satisfied: joblib in /usr/local/lib/python3.10/dist-packages (from nltk) (1.4.0)\n",
            "Requirement already satisfied: regex>=2021.8.3 in /usr/local/lib/python3.10/dist-packages (from nltk) (2023.12.25)\n",
            "Requirement already satisfied: tqdm in /usr/local/lib/python3.10/dist-packages (from nltk) (4.66.2)\n"
          ]
        }
      ],
      "source": [
        "pip install nltk"
      ]
    },
    {
      "cell_type": "code",
      "source": [
        "import nltk\n",
        "from nltk.tokenize import sent_tokenize, word_tokenize\n",
        "from nltk.corpus import stopwords\n",
        "from nltk.probability import FreqDist\n",
        "from nltk.tokenize.treebank import TreebankWordDetokenizer\n",
        "nltk.download('punkt')\n",
        "nltk.download('stopwords')"
      ],
      "metadata": {
        "id": "2-xOLQtzIF3_",
        "colab": {
          "base_uri": "https://localhost:8080/"
        },
        "outputId": "8d0e5219-8e20-45e7-e930-de7714d9d597"
      },
      "execution_count": 2,
      "outputs": [
        {
          "output_type": "stream",
          "name": "stderr",
          "text": [
            "[nltk_data] Downloading package punkt to /root/nltk_data...\n",
            "[nltk_data]   Unzipping tokenizers/punkt.zip.\n",
            "[nltk_data] Downloading package stopwords to /root/nltk_data...\n",
            "[nltk_data]   Unzipping corpora/stopwords.zip.\n"
          ]
        },
        {
          "output_type": "execute_result",
          "data": {
            "text/plain": [
              "True"
            ]
          },
          "metadata": {},
          "execution_count": 2
        }
      ]
    },
    {
      "cell_type": "code",
      "source": [
        "text = \"General relativity, also known as the general theory of relativity and Einstein's theory of gravity, is the geometric theory of gravitation published by Albert Einstein in 1915 and is the current description of gravitation in modern physics. General relativity generalizes special relativity and refines Newton's law of universal gravitation, providing a unified description of gravity as a geometric property of space and time or four-dimensional spacetime. In particular, the curvature of spacetime is directly related to the energy and momentum of whatever matter and radiation are present. The relation is specified by the Einstein field equations, a system of second order partial differential equations. Newton's law of universal gravitation, which describes classical gravity, can be seen as a prediction of general relativity for the almost flat spacetime geometry around stationary mass distributions. Some predictions of general relativity, however, are beyond Newton's law of universal gravitation in classical physics. These predictions concern the passage of time, the geometry of space, the motion of bodies in free fall, and the propagation of light, and include gravitational time dilation, gravitational lensing, the gravitational redshift of light, the Shapiro time delay and singularities/black holes. So far, all tests of general relativity have been shown to be in agreement with the theory. The time-dependent solutions of general relativity enable us to talk about the history of the universe and have provided the modern framework for cosmology, thus leading to the discovery of the Big Bang and cosmic microwave background radiation. Despite the introduction of a number of alternative theories, general relativity continues to be the simplest theory consistent with experimental data. Reconciliation of general relativity with the laws of quantum physics remains a problem, however, as there is a lack of a self-consistent theory of quantum gravity. It is not yet known how gravity can be unified with the three non-gravitational forces: strong, weak and electromagnetic. Einstein's theory has astrophysical implications, including the prediction of black holes—regions of space in which space and time are distorted in such a way that nothing, not even light, can escape from them. Black holes are the end-state for massive stars. Microquasars and active galactic nuclei are believed to be stellar black holes and supermassive black holes. It also predicts gravitational lensing, where the bending of light results in multiple images of the same distant astronomical phenomenon. Other predictions include the existence of gravitational waves, which have been observed directly by the physics collaboration LIGO and other observatories. In addition, general relativity has provided the base of cosmological models of an expanding universe.\""
      ],
      "metadata": {
        "id": "zUPFXunXFf84"
      },
      "execution_count": 3,
      "outputs": []
    },
    {
      "cell_type": "code",
      "source": [
        "sentences = sent_tokenize(text)\n",
        "stop_words = set(stopwords.words('english'))\n",
        "\n",
        "filtered_sentences = []\n",
        "for sentence in sentences:\n",
        "    words = word_tokenize(sentence)\n",
        "    filtered_sentence = [word.lower() for word in words if word.isalnum() and word.lower() not in stop_words]\n",
        "    filtered_sentences.append(TreebankWordDetokenizer().detokenize(filtered_sentence))\n"
      ],
      "metadata": {
        "id": "iYD67TYmF-wU"
      },
      "execution_count": 4,
      "outputs": []
    },
    {
      "cell_type": "code",
      "source": [
        "words = word_tokenize(\" \".join(filtered_sentences))\n",
        "fdist = FreqDist(words)"
      ],
      "metadata": {
        "id": "7tF7J8UHGEIF"
      },
      "execution_count": 5,
      "outputs": []
    },
    {
      "cell_type": "code",
      "source": [
        "most_common_words = fdist.most_common(10)"
      ],
      "metadata": {
        "id": "lkoYYPasGNDd"
      },
      "execution_count": 6,
      "outputs": []
    },
    {
      "cell_type": "code",
      "source": [
        "summary_sentences = []\n",
        "for sentence in filtered_sentences:\n",
        "    for word, _ in most_common_words:\n",
        "        if word.lower() in sentence.lower():\n",
        "            summary_sentences.append(sentence)\n",
        "            break\n"
      ],
      "metadata": {
        "id": "8YOPc5eBGPG8"
      },
      "execution_count": 7,
      "outputs": []
    },
    {
      "cell_type": "code",
      "source": [
        "summary = \" \".join(summary_sentences)\n",
        "print(summary)\n"
      ],
      "metadata": {
        "id": "NsSHM-cKGS24",
        "outputId": "edd59f1b-03e0-4faf-d62d-7c4e6060a859",
        "colab": {
          "base_uri": "https://localhost:8080/"
        }
      },
      "execution_count": 8,
      "outputs": [
        {
          "output_type": "stream",
          "name": "stdout",
          "text": [
            "general relativity also known general theory relativity einstein theory gravity geometric theory gravitation published albert einstein 1915 current description gravitation modern physics general relativity generalizes special relativity refines newton law universal gravitation providing unified description gravity geometric property space time spacetime particular curvature spacetime directly related energy momentum whatever matter radiation present relation specified einstein field equations system second order partial differential equations newton law universal gravitation describes classical gravity seen prediction general relativity almost flat spacetime geometry around stationary mass distributions predictions general relativity however beyond newton law universal gravitation classical physics predictions concern passage time geometry space motion bodies free fall propagation light include gravitational time dilation gravitational lensing gravitational redshift light shapiro time delay holes far tests general relativity shown agreement theory solutions general relativity enable us talk history universe provided modern framework cosmology thus leading discovery big bang cosmic microwave background radiation despite introduction number alternative theories general relativity continues simplest theory consistent experimental data reconciliation general relativity laws quantum physics remains problem however lack theory quantum gravity yet known gravity unified three forces strong weak electromagnetic einstein theory astrophysical implications including prediction black space space time distorted way nothing even light escape also predicts gravitational lensing bending light results multiple images distant astronomical phenomenon predictions include existence gravitational waves observed directly physics collaboration ligo observatories addition general relativity provided base cosmological models expanding universe\n"
          ]
        }
      ]
    }
  ]
}